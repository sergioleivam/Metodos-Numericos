{
 "cells": [
  {
   "cell_type": "code",
   "execution_count": 1,
   "metadata": {
    "collapsed": true
   },
   "outputs": [],
   "source": [
    "import numpy as np\n",
    "import scipy as sp\n",
    "import matplotlib.pyplot as plt\n",
    "%matplotlib inline"
   ]
  },
  {
   "cell_type": "markdown",
   "metadata": {},
   "source": [
    "$$U(r)=-\\dfrac{GMm}{r}+\\alpha \\dfrac{GMm}{r^2}$$\n",
    "\n",
    "$$m\\ddot{x}=-\\dfrac{GMm}{({x^2+y^2})^{3/2}}x+2\\alpha \\dfrac{GMm}{({x^2+y^2})^2}x$$\n",
    "\n",
    "$$m\\ddot{y}=-\\dfrac{GMm}{({x^2+y^2})^{3/2}}y+2\\alpha \\dfrac{GMm}{({x^2+y^2})^2}y$$"
   ]
  },
  {
   "cell_type": "markdown",
   "metadata": {},
   "source": [
    "$$\\frac{d}{dt}\\left(\n",
    "\\begin{matrix}\n",
    "    x   \\\\\n",
    "    y \\\\\n",
    "    \\dot{x} \\\\\n",
    "    \\dot{y}\n",
    "\\end{matrix}\\right)\n",
    "=\n",
    "\\left[\n",
    "\\begin{matrix}\n",
    "   \\dot{x} \\\\\n",
    "   \\dot{y} \\\\\n",
    "   -\\dfrac{GMm}{({x^2+y^2})^{3/2}}x+2\\alpha \\dfrac{GMm}{({x^2+y^2})^2}x \\\\\n",
    "   -\\dfrac{GMm}{({x^2+y^2})^{3/2}}y+2\\alpha \\dfrac{GMm}{({x^2+y^2})^2}y\n",
    "\\end{matrix}\\right]\n",
    "=\n",
    "f(x,y,\\dot{x},\\dot{y})\n",
    "$$\n"
   ]
  },
  {
   "cell_type": "code",
   "execution_count": 2,
   "metadata": {
    "collapsed": true
   },
   "outputs": [],
   "source": [
    "class Planeta(object):\n",
    "    \"\"\"\n",
    "    Esta clase inicializa un objecto con las instancias de la \n",
    "    condicion inicial y el alpha que esta en la correccion del\n",
    "    potencial gravitacional.\n",
    "    \n",
    "     Ademas permite aplicar la ecuacion de movimiento y los \n",
    "     metodos de Verlet y RK4, para analizar como cambia en el\n",
    "     tiempo.\n",
    "    \"\"\"\n",
    "\n",
    "    def __init__(self, condicion_inicial, alpha=0):\n",
    "        \"\"\"\n",
    "        __init__ es un método especial que se usa para inicializar las\n",
    "        instancias de una clase.\n",
    "\n",
    "        Ej. de uso:\n",
    "        >> mercurio = Planeta([x0, y0, vx0, vy0])\n",
    "        >> print(mercurio.alpha)\n",
    "        >> 0.\n",
    "        \"\"\"\n",
    "        self.estado_actual = condicion_inicial\n",
    "        self.t_actual = 0.\n",
    "        self.alpha = alpha\n",
    "\n",
    "    def ecuacion_de_movimiento(self):\n",
    "        \"\"\"\n",
    "        Implementa la ecuación de movimiento, como sistema de ecuaciónes de\n",
    "        primer orden.\n",
    "        \"\"\"\n",
    "        x, y, vx, vy = self.estado_actual\n",
    "        a = self.alpha\n",
    "        r = (x**2+y**2)**0.5\n",
    "        fx = -x * r**(-3) + 2 * a * x * r**(-4)\n",
    "        fy = -y * r**(-3) + 2 * a * y * r**(-4)\n",
    "        ec_mov = np.array([vx, vy, fx, fy])\n",
    "        return ec_mov\n",
    "    \n",
    "    def avanza_rk4(self, dt):\n",
    "        \"\"\"\n",
    "        Toma la condición actual del planeta y avanza su posicion y velocidad\n",
    "        en un intervalo de tiempo dt usando el método de RK4. El método no\n",
    "        retorna nada, pero modifica los valores de self.estado_actual.\n",
    "        \"\"\"\n",
    "        estado = self.estado_actual\n",
    "        \n",
    "        f_k1 = self.ecuacion_de_movimiento()\n",
    "        k1 = dt*f_k1\n",
    "        self.estado_actual = estado + k1/2.\n",
    "        f_k2=self.ecuacion_de_movimiento()\n",
    "        k2=dt*f_k2        \n",
    "        self.estado_actual = estado + k2/2.\n",
    "        f_k3=self.ecuacion_de_movimiento()\n",
    "        k3=dt*f_k2        \n",
    "        self.estado_actual = estado + k3\n",
    "        f_k4=self.ecuacion_de_movimiento()\n",
    "        k4=dt*f_k4        \n",
    "        self.estado_actual = estado + (k4 + 2*(k3 + k2) + k1) / 6.\n",
    "    \n",
    "    def avanza_verlet(self, dt):\n",
    "        \"\"\"\n",
    "        Similar a avanza_rk4, pero usando Verlet.\n",
    "        \"\"\"\n",
    "        x, y, vx, vy = self.estado_actual\n",
    "        fx = self.ecuacion_de_movimiento()[2]\n",
    "        fy = self.ecuacion_de_movimiento()[3]        \n",
    "        pos = np.array([x, y])\n",
    "        vel = np.array([vx, vy])\n",
    "        acel = np.array([fx,fy])\n",
    "        pos_next = pos + vel * dt + .5 * acel * dt**2    \n",
    "        self.estado_actual[0:2] = pos_next\n",
    "        acel_next = self.ecuacion_de_movimiento()[2:4]\n",
    "        vel_next = vel + .5 * (acel + acel_next) * dt\n",
    "        y_next = sp.concatenate((pos_next, vel_next))\n",
    "        self.estado_actual = y_next\n",
    "\n",
    "    def energia_total(self):\n",
    "        \"\"\"\n",
    "        Calcula la enérgía total del sistema en las condiciones actuales.\n",
    "        \"\"\"\n",
    "        x, y, vx, vy = self.estado_actual\n",
    "        r = (x**2 + y**2)**(1/2.)\n",
    "        a=self.alpha\n",
    "        E= (vx**2 + vy**2)/2. -1 / r + a/ r**2.\n",
    "        return E"
   ]
  },
  {
   "cell_type": "code",
   "execution_count": 99,
   "metadata": {
    "collapsed": true
   },
   "outputs": [],
   "source": [
    "#from planeta import Planeta\n",
    "# Crea el objeto planeta y las listas donde se \n",
    "# guardaran sus datos\n",
    "v_yo= 0.1\n",
    "condicion_inicial = [10.0, 0, 0, v_yo]\n",
    "alpha = 10**(-2.937)\n",
    "\n",
    "planeta = Planeta(condicion_inicial,alpha)\n",
    "planeta.t_actual = 0.\n",
    "\n",
    "DT=225000\n",
    "dt = 0.01\n",
    "\n",
    "x = np.zeros(DT)\n",
    "y = np.zeros(DT)\n",
    "t = np.zeros(DT)\n",
    "vx = np.zeros(DT)\n",
    "vy = np.zeros(DT)\n",
    "\n",
    "x[0] , y[0] , vx[0] , vy[0] =condicion_inicial\n",
    "\n",
    "energia = np.zeros(DT)"
   ]
  },
  {
   "cell_type": "code",
   "execution_count": null,
   "metadata": {
    "collapsed": false
   },
   "outputs": [],
   "source": []
  },
  {
   "cell_type": "code",
   "execution_count": 60,
   "metadata": {
    "collapsed": false
   },
   "outputs": [],
   "source": [
    "# implenta  RK-4\n",
    "for i in range(1, DT):\n",
    "    planeta.avanza_rk4(dt)\n",
    "    energia[i] = planeta.energia_total()\n",
    "    x[i], y[i], vx[i], vy[i] = planeta.estado_actual\n",
    "    planeta.t_actual += dt\n",
    "    t[i] = planeta.t_actual\n",
    "\n"
   ]
  },
  {
   "cell_type": "code",
   "execution_count": 66,
   "metadata": {
    "collapsed": true
   },
   "outputs": [],
   "source": [
    "# implenta  Verlet \n",
    "for i in range(1, DT):\n",
    "    planeta.avanza_verlet(dt)\n",
    "    energia[i] = planeta.energia_total()\n",
    "    x[i], y[i], vx[i], vy[i] = planeta.estado_actual\n",
    "    planeta.t_actual += dt\n",
    "    t[i] = planeta.t_actual"
   ]
  },
  {
   "cell_type": "code",
   "execution_count": 67,
   "metadata": {
    "collapsed": false
   },
   "outputs": [
    {
     "data": {
      "image/png": "[encoded data removed]",
      "text/plain": [
       "<matplotlib.figure.Figure at 0x7f173ad27610>"
      ]
     },
     "metadata": {},
     "output_type": "display_data"
    }
   ],
   "source": [
    "plt.plot(t,energia)\n",
    "#plt.plot(t,x)\n",
    "plt.xlabel('tiempo ',fontsize=13)\n",
    "plt.ylabel('Energia ',fontsize=13)\n",
    "plt.title('Evolucion temporal de la Energia con correccion',fontsize=12)\n",
    "plt.ylim(-0.2,0.0)\n",
    "plt.savefig('energia_verlet_5.pdf')"
   ]
  },
  {
   "cell_type": "code",
   "execution_count": 68,
   "metadata": {
    "collapsed": false
   },
   "outputs": [
    {
     "data": {
      "image/png": "[encoded data removed]",
      "text/plain": [
       "<matplotlib.figure.Figure at 0x7f173b133810>"
      ]
     },
     "metadata": {},
     "output_type": "display_data"
    }
   ],
   "source": [
    "plt.plot(x,y)\n",
    "plt.ylabel('posicion en y ',fontsize=12)\n",
    "plt.xlabel('posicion en x ',fontsize=12)\n",
    "plt.title('Precesion con la correccion ',fontsize=12)\n",
    "plt.xlim(-2,12)\n",
    "plt.savefig('pres_verlet_5.pdf')"
   ]
  },
  {
   "cell_type": "code",
   "execution_count": null,
   "metadata": {
    "collapsed": false
   },
   "outputs": [],
   "source": []
  },
  {
   "cell_type": "code",
   "execution_count": 112,
   "metadata": {
    "collapsed": false
   },
   "outputs": [
    {
     "name": "stderr",
     "output_type": "stream",
     "text": [
      "/home/sergio/anaconda2/lib/python2.7/site-packages/numpy/core/_methods.py:59: RuntimeWarning: Mean of empty slice.\n",
      "  warnings.warn(\"Mean of empty slice.\", RuntimeWarning)\n",
      "/home/sergio/anaconda2/lib/python2.7/site-packages/numpy/core/_methods.py:70: RuntimeWarning: invalid value encountered in double_scalars\n",
      "  ret = ret.dtype.type(ret / rcount)\n",
      "/home/sergio/anaconda2/lib/python2.7/site-packages/numpy/core/_methods.py:82: RuntimeWarning: Degrees of freedom <= 0 for slice\n",
      "  warnings.warn(\"Degrees of freedom <= 0 for slice\", RuntimeWarning)\n",
      "/home/sergio/anaconda2/lib/python2.7/site-packages/numpy/core/_methods.py:94: RuntimeWarning: invalid value encountered in true_divide\n",
      "  arrmean, rcount, out=arrmean, casting='unsafe', subok=False)\n",
      "/home/sergio/anaconda2/lib/python2.7/site-packages/numpy/core/_methods.py:116: RuntimeWarning: invalid value encountered in double_scalars\n",
      "  ret = ret.dtype.type(ret / rcount)\n"
     ]
    }
   ],
   "source": [
    "#condiciones iniciales\n",
    "x0 = 10\n",
    "y0 = 0\n",
    "\n",
    "r0 = (x0**2 + y0**2)**0.5\n",
    "r = (x**2 + y**2)**(0.5)\n",
    "eps = 1.2e-7\n",
    "idx = sp.where(r0 - r < eps)\n",
    "\n",
    "x_peri = [x[i] for i in idx[0]]\n",
    "r_peri = [r[i] for i in idx[0]]\n",
    "tiempo_peri = [t[i] for i in idx[0]]\n",
    "\n",
    "N = len(x_peri)\n",
    "omega = sp.zeros(N - 1)\n",
    "for i in range(1, N):\n",
    "    phi_i_anterior = sp.arccos(x_peri[i - 1] / r_peri[i - 1])\n",
    "    phi_i = sp.arccos(x_peri[i] / r_peri[i])\n",
    "    dt = sp.fabs(tiempo_peri[i] - tiempo_peri[i - 1])\n",
    "    omega[i - 1] = sp.fabs(phi_i_anterior - phi_i) / dt\n",
    "\n",
    "omega_promedio = sp.mean(omega)\n",
    "omega_error = sp.std(omega)"
   ]
  },
  {
   "cell_type": "code",
   "execution_count": 113,
   "metadata": {
    "collapsed": false
   },
   "outputs": [
    {
     "data": {
      "text/plain": [
       "nan"
      ]
     },
     "execution_count": 113,
     "metadata": {},
     "output_type": "execute_result"
    }
   ],
   "source": [
    "omega_promedio"
   ]
  },
  {
   "cell_type": "code",
   "execution_count": 114,
   "metadata": {
    "collapsed": false
   },
   "outputs": [
    {
     "data": {
      "text/plain": [
       "nan"
      ]
     },
     "execution_count": 114,
     "metadata": {},
     "output_type": "execute_result"
    }
   ],
   "source": [
    "omega_error"
   ]
  },
  {
   "cell_type": "code",
   "execution_count": 111,
   "metadata": {
    "collapsed": false
   },
   "outputs": [
    {
     "data": {
      "text/plain": [
       "(1, 224999)"
      ]
     },
     "execution_count": 111,
     "metadata": {},
     "output_type": "execute_result"
    }
   ],
   "source": [
    "np.shape(idx)"
   ]
  },
  {
   "cell_type": "code",
   "execution_count": null,
   "metadata": {
    "collapsed": true
   },
   "outputs": [],
   "source": []
  }
 ],
 "metadata": {
  "kernelspec": {
   "display_name": "Python [Root]",
   "language": "python",
   "name": "Python [Root]"
  },
  "language_info": {
   "codemirror_mode": {
    "name": "ipython",
    "version": 2
   },
   "file_extension": ".py",
   "mimetype": "text/x-python",
   "name": "python",
   "nbconvert_exporter": "python",
   "pygments_lexer": "ipython2",
   "version": "2.7.12"
  }
 },
 "nbformat": 4,
 "nbformat_minor": 0
}
