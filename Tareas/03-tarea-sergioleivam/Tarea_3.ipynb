{
 "cells": [
  {
   "cell_type": "code",
   "execution_count": 18,
   "metadata": {
    "collapsed": true
   },
   "outputs": [],
   "source": [
    "import numpy as np\n",
    "from scipy.interpolate import lagrange"
   ]
  },
  {
   "cell_type": "code",
   "execution_count": 22,
   "metadata": {
    "collapsed": false
   },
   "outputs": [
    {
     "name": "stdout",
     "output_type": "stream",
     "text": [
      "(5,) (5,)\n",
      "[-1.  -0.5  0.   0.5  1. ] [2.0611536224385579e-09, 0.006737946999085467, 1.0, 0.006737946999085467, 2.0611536224385579e-09]\n"
     ]
    }
   ],
   "source": [
    "#funcion \n",
    "x=np.linspace(-1,1,5)\n",
    "f=[np.exp(-(x[i])**2/0.05) for i in range(np.shape(x)[0])]\n",
    "print np.shape(x), np.shape(f)\n",
    "print x , f"
   ]
  },
  {
   "cell_type": "code",
   "execution_count": 17,
   "metadata": {
    "collapsed": false
   },
   "outputs": [],
   "source": [
    "#help(scipy.interpolate)"
   ]
  },
  {
   "cell_type": "code",
   "execution_count": 14,
   "metadata": {
    "collapsed": false
   },
   "outputs": [
    {
     "data": {
      "text/plain": [
       "'\\n    lagrange(x, w)\\n        Return a Lagrange interpolating polynomial.\\n        \\n        Given two 1-D arrays `x` and `w,` returns the Lagrange interpolating\\n        polynomial through the points ``(x, w)``.\\n        \\n        Warning: This implementation is numerically unstable. Do not expect to\\n        be able to use more than about 20 points even if they are chosen optimally.\\n        \\n        Parameters\\n        ----------\\n        x : array_like\\n            `x` represents the x-coordinates of a set of datapoints.\\n        w : array_like\\n            `w` represents the y-coordinates of a set of datapoints, i.e. f(`x`).\\n        \\n        Returns\\n        -------\\n        lagrange : numpy.poly1d instance\\n            The Lagrange interpolating polynomial.\\n'"
      ]
     },
     "execution_count": 14,
     "metadata": {},
     "output_type": "execute_result"
    }
   ],
   "source": [
    "\"\"\"\n",
    "    lagrange(x, w)\n",
    "        Return a Lagrange interpolating polynomial.\n",
    "        \n",
    "        Given two 1-D arrays `x` and `w,` returns the Lagrange interpolating\n",
    "        polynomial through the points ``(x, w)``.\n",
    "        \n",
    "        Warning: This implementation is numerically unstable. Do not expect to\n",
    "        be able to use more than about 20 points even if they are chosen optimally.\n",
    "        \n",
    "        Parameters\n",
    "        ----------\n",
    "        x : array_like\n",
    "            `x` represents the x-coordinates of a set of datapoints.\n",
    "        w : array_like\n",
    "            `w` represents the y-coordinates of a set of datapoints, i.e. f(`x`).\n",
    "        \n",
    "        Returns\n",
    "        -------\n",
    "        lagrange : numpy.poly1d instance\n",
    "            The Lagrange interpolating polynomial.\n",
    "            \n",
    "            \n",
    "class InterpolatedUnivariateSpline(UnivariateSpline)\n",
    "     |  One-dimensional interpolating spline for a given set of data points.\n",
    "     |  \n",
    "     |  Fits a spline y = spl(x) of degree `k` to the provided `x`, `y` data. Spline\n",
    "     |  function passes through all provided points. Equivalent to\n",
    "     |  `UnivariateSpline` with  s=0.\n",
    "     |  \n",
    "     |  Parameters\n",
    "     |  ----------\n",
    "     |  x : (N,) array_like\n",
    "     |      Input dimension of data points -- must be increasing\n",
    "     |  y : (N,) array_like\n",
    "     |      input dimension of data points\n",
    "     |  w : (N,) array_like, optional\n",
    "     |      Weights for spline fitting.  Must be positive.  If None (default),\n",
    "     |      weights are all equal.\n",
    "     |  bbox : (2,) array_like, optional\n",
    "     |      2-sequence specifying the boundary of the approximation interval. If\n",
    "     |      None (default), ``bbox=[x[0], x[-1]]``.\n",
    "     |  k : int, optional\n",
    "     |      Degree of the smoothing spline.  Must be 1 <= `k` <= 5.\n",
    "     |  ext : int or str, optional\n",
    "     |      Controls the extrapolation mode for elements\n",
    "     |      not in the interval defined by the knot sequence.\n",
    "     |  \n",
    "     |      * if ext=0 or 'extrapolate', return the extrapolated value.\n",
    "     |      * if ext=1 or 'zeros', return 0\n",
    "     |      * if ext=2 or 'raise', raise a ValueError\n",
    "     |      * if ext=3 of 'const', return the boundary value.\n",
    "     |  \n",
    "     |      The default value is 0.\n",
    "     |  \n",
    "     |  check_finite : bool, optional\n",
    "     |      Whether to check that the input arrays contain only finite numbers.\n",
    "     |      Disabling may give a performance gain, but may result in problems\n",
    "     |      (crashes, non-termination or non-sensical results) if the inputs\n",
    "     |      do contain infinities or NaNs.\n",
    "     |      Default is False.\n",
    "     |  \n",
    "     |  See Also\n",
    "     |  --------\n",
    "     |  UnivariateSpline : Superclass -- allows knots to be selected by a\n",
    "     |      smoothing condition\n",
    "     |  LSQUnivariateSpline : spline for which knots are user-selected\n",
    "     |  splrep : An older, non object-oriented wrapping of FITPACK\n",
    "     |  splev, sproot, splint, spalde\n",
    "     |  BivariateSpline : A similar class for two-dimensional spline interpolation\n",
    "     |  \n",
    "     |  Notes\n",
    "     |  -----\n",
    "     |  The number of data points must be larger than the spline degree `k`.\n",
    "     |  \n",
    "     |  Examples\n",
    "     |  --------\n",
    "     |  >>> import matplotlib.pyplot as plt\n",
    "     |  >>> from scipy.interpolate import InterpolatedUnivariateSpline\n",
    "     |  >>> x = np.linspace(-3, 3, 50)\n",
    "     |  >>> y = np.exp(-x**2) + 0.1 * np.random.randn(50)\n",
    "     |  >>> spl = InterpolatedUnivariateSpline(x, y)\n",
    "     |  >>> plt.plot(x, y, 'ro', ms=5)\n",
    "     |  >>> xs = np.linspace(-3, 3, 1000)\n",
    "     |  >>> plt.plot(xs, spl(xs), 'g', lw=3, alpha=0.7)\n",
    "     |  >>> plt.show()\n",
    "     |  \n",
    "     |  Notice that the ``spl(x)`` interpolates `y`:\n",
    "     |  \n",
    "     |  >>> spl.get_residual()\n",
    "     |  0.0\n",
    "\"\"\""
   ]
  },
  {
   "cell_type": "code",
   "execution_count": null,
   "metadata": {
    "collapsed": true
   },
   "outputs": [],
   "source": []
  }
 ],
 "metadata": {
  "kernelspec": {
   "display_name": "Python [Root]",
   "language": "python",
   "name": "Python [Root]"
  },
  "language_info": {
   "codemirror_mode": {
    "name": "ipython",
    "version": 2
   },
   "file_extension": ".py",
   "mimetype": "text/x-python",
   "name": "python",
   "nbconvert_exporter": "python",
   "pygments_lexer": "ipython2",
   "version": "2.7.12"
  }
 },
 "nbformat": 4,
 "nbformat_minor": 0
}
