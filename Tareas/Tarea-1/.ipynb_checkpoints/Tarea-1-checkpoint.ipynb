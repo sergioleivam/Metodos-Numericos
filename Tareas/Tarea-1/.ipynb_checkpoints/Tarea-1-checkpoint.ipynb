{
 "cells": [
  {
   "cell_type": "code",
   "execution_count": 1,
   "metadata": {
    "collapsed": false
   },
   "outputs": [],
   "source": [
    "import matplotlib.pyplot as plt\n",
    "import matplotlib as mp\n",
    "import numpy as np\n",
    "import math\n",
    "%matplotlib inline"
   ]
  },
  {
   "cell_type": "code",
   "execution_count": null,
   "metadata": {
    "collapsed": false
   },
   "outputs": [],
   "source": [
    "a=np.loadtxt('01-tarea/sun_AM0.dat')\n",
    "\n",
    "''''\n",
    "Transforma un el a--sun_AM0 de array a x1 una lista de largo a.shape[0]\n",
    "'''\n",
    "'N. de filas de a'\n",
    "shape=a.shape[0] \n",
    "\"crea una lista de largo 10\"\n",
    "x=[a[i,0] for i in range(shape)]\n",
    "y=[a[i,1] for i in range(shape)]\n",
    "\n",
    "plt.semilogx(x,y)\n",
    "plt.ylim(0,3)\n",
    "\n",
    "\n",
    "\"Faltan las unidades en el grafico y cambiar a cgs en el \""
   ]
  },
  {
   "cell_type": "code",
   "execution_count": null,
   "metadata": {
    "collapsed": false
   },
   "outputs": [],
   "source": []
  }
 ],
 "metadata": {
  "kernelspec": {
   "display_name": "Python [Root]",
   "language": "python",
   "name": "Python [Root]"
  },
  "language_info": {
   "codemirror_mode": {
    "name": "ipython",
    "version": 2
   },
   "file_extension": ".py",
   "mimetype": "text/x-python",
   "name": "python",
   "nbconvert_exporter": "python",
   "pygments_lexer": "ipython2",
   "version": "2.7.12"
  }
 },
 "nbformat": 4,
 "nbformat_minor": 0
}
