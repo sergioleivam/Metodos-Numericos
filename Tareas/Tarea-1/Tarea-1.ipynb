{
 "cells": [
  {
   "cell_type": "code",
   "execution_count": 1,
   "metadata": {
    "collapsed": false
   },
   "outputs": [],
   "source": [
    "import matplotlib.pyplot as plt\n",
    "import matplotlib as mp\n",
    "import numpy as np\n",
    "import math\n",
    "import scipy.integrate\n",
    "%matplotlib inline"
   ]
  },
  {
   "cell_type": "code",
   "execution_count": 2,
   "metadata": {
    "collapsed": false
   },
   "outputs": [
    {
     "data": {
      "text/plain": [
       "<matplotlib.text.Text at 0x7fc9f74c06d0>"
      ]
     },
     "execution_count": 2,
     "metadata": {},
     "output_type": "execute_result"
    },
    {
     "data": {
      "image/png": "[encoded data removed]",
      "text/plain": [
       "<matplotlib.figure.Figure at 0x7fc9f98c6a10>"
      ]
     },
     "metadata": {},
     "output_type": "display_data"
    }
   ],
   "source": [
    "# PREGUNTA 1\n",
    "\n",
    "a=np.loadtxt('01-tarea/sun_AM0.dat')\n",
    "\n",
    "''''\n",
    "Transforma un el a--sun_AM0 de array a x1 una lista de largo a.shape[0]\n",
    "'''\n",
    "'N. de filas de a'\n",
    "shape=a.shape[0] \n",
    "\"crea una lista de largo 10\"\n",
    "x=[a[i,0]*10 for i in range(shape)]\n",
    "y=[a[i,1]*100 for i in range(shape)]\n",
    "\n",
    "plt.semilogx(x,y)\n",
    "#plt.ylim(0,3)\n",
    "\n",
    "plt.ylabel('Flujo [$erg*s^{-1}*cm^{-2}*\\\\AA^{-1}$]')\n",
    "plt.xlabel('longitud de onda [$\\\\AA$]')"
   ]
  },
  {
   "cell_type": "code",
   "execution_count": 12,
   "metadata": {
    "collapsed": false
   },
   "outputs": [
    {
     "name": "stdout",
     "output_type": "stream",
     "text": [
      "3.86253073034e+33 1366090.79684\n"
     ]
    }
   ],
   "source": [
    "#              PREGUNTA 2\n",
    "\n",
    "intervalo=a[:,0]*10\n",
    "f=a[:,1]*100\n",
    "def int_trape(f,x):\n",
    "    \"\"\"\n",
    "    int_trape calcula una integral usando el metodo del trapecio, \n",
    "    intputs\n",
    "        f:  Funcion a integrar, deben ser valores discretos, y evaluados en los puntos que trae x, la segunada variable\n",
    "        x:  lista que trae los valores en que se evalua la funcion f.\n",
    "    output\n",
    "        suma : entrega el resultado de evaluar la integral en el intervalo de x.\n",
    "    \"\"\"\n",
    "    \n",
    "    #dx1=(intervalo[1]-intervalo[0])/2.\n",
    "    #dx0=(intervalo[shape-1]-intervalo[shape-2])/2.\n",
    "    #suma=f[0]*dx1+f[shape-1]*dx0\n",
    "    suma=0\n",
    "    for i in range(shape-1):\n",
    "        dx=(x[i+1]-x[i])/2.\n",
    "        suma += (f[i]+f[i+1])*dx\n",
    "    return suma\n",
    "#d es la distancia del sol a la tierra en metros.\n",
    "d=150e11\n",
    "factor= 4*np.pi*d*d\n",
    "Resultado = factor*int_trape(f,intervalo)\n",
    "print Resultado,int_trape(f,intervalo)"
   ]
  },
  {
   "cell_type": "code",
   "execution_count": 16,
   "metadata": {
    "collapsed": false
   },
   "outputs": [
    {
     "name": "stdout",
     "output_type": "stream",
     "text": [
      "6976328.15214 1.5e+13\n",
      "793630127975.0 9725522824.61\n"
     ]
    }
   ],
   "source": [
    "\n",
    "#        PREGUNTA 3\n",
    "\n",
    "\n",
    "def int_punto_medio(f,dx,i):\n",
    "    suma=((f[i]+f[i+1])/2.)*dx\n",
    "    return suma\n",
    "\n",
    "def int_simpson(f,dx,n):\n",
    "    suma2= (dx/3.)*(f[1]+4*sumap_i(f,0,n)+2*sumap_i(f,1,n)+f[n-2])\n",
    "    return suma2\n",
    "    \n",
    "def sumap_i(f,p_i,n):\n",
    "    suma=0\n",
    "    for i in range(1,n-2):\n",
    "        if i%2 == p_i :  #Si p_i es 1 serán los pares\n",
    "            suma+= f[i]\n",
    "    return suma \n",
    "\n",
    "def func_pl(x):\n",
    "    n=np.tan(x)**3\n",
    "    d=(np.exp(np.tan(x))-1)*np.cos(x)**2\n",
    "    f=n/d\n",
    "    return f\n",
    "\n",
    "\n",
    "def Integral(n):\n",
    "    dx=(np.pi/2.)/n\n",
    "    func=[func_pl(dx*i) for i in range(1,n)]\n",
    "    Int=int_simpson(func,dx,n)+int_punto_medio(func,dx,0)+int_punto_medio(func,dx,n-3)\n",
    "    return Int\n",
    "n=10\n",
    "val=np.pi**4/15\n",
    "e=1e-3\n",
    "while np.fabs(Integral(n)-val)>= e:\n",
    "    n+=2\n",
    "n\n",
    "diff = Integral(n)-val\n",
    "#print val ,Integral(n), diff, n\n",
    "hp=6.62606896e-27\n",
    "kb=1.3806488e-16\n",
    "cl=29979245800\n",
    "T=5777 \n",
    "const=((2*np.pi*hp)/cl**2)*((kb*T)/hp)**4\n",
    "\n",
    "cons=0.00973225584618\n",
    "p3=Integral(50)*4*const*np.pi\n",
    "Reff=np.sqrt(Resultado/(Integral(50)*4*const*np.pi)) /10000\n",
    "print Reff, d\n",
    "print (Integral(50)*4*const*np.pi), const"
   ]
  },
  {
   "cell_type": "code",
   "execution_count": 5,
   "metadata": {
    "collapsed": false
   },
   "outputs": [
    {
     "name": "stdout",
     "output_type": "stream",
     "text": [
      "100 loops, best of 3: 10 ms per loop\n"
     ]
    }
   ],
   "source": [
    "%timeit Integral(1000) # "
   ]
  },
  {
   "cell_type": "code",
   "execution_count": 6,
   "metadata": {
    "collapsed": false
   },
   "outputs": [
    {
     "name": "stdout",
     "output_type": "stream",
     "text": [
      "The slowest run took 12.17 times longer than the fastest. This could mean that an intermediate result is being cached.\n",
      "10000 loops, best of 3: 50 µs per loop\n"
     ]
    }
   ],
   "source": [
    "%timeit scipy.integrate.trapz(a[:,1],a[:,0])"
   ]
  },
  {
   "cell_type": "code",
   "execution_count": 7,
   "metadata": {
    "collapsed": false
   },
   "outputs": [
    {
     "name": "stdout",
     "output_type": "stream",
     "text": [
      "1000 loops, best of 3: 1.58 ms per loop\n"
     ]
    }
   ],
   "source": [
    "%timeit int_trape(f,intervalo)"
   ]
  },
  {
   "cell_type": "code",
   "execution_count": 8,
   "metadata": {
    "collapsed": false
   },
   "outputs": [
    {
     "name": "stdout",
     "output_type": "stream",
     "text": [
      "100 loops, best of 3: 2.47 ms per loop\n"
     ]
    },
    {
     "name": "stderr",
     "output_type": "stream",
     "text": [
      "/home/sergio/anaconda2/lib/python2.7/site-packages/ipykernel/__main__.py:19: RuntimeWarning: overflow encountered in exp\n"
     ]
    }
   ],
   "source": [
    "%timeit scipy.integrate.quad(func_pl,0.,np.pi/2)"
   ]
  },
  {
   "cell_type": "code",
   "execution_count": 9,
   "metadata": {
    "collapsed": false,
    "scrolled": true
   },
   "outputs": [
    {
     "data": {
      "text/plain": [
       "0.0"
      ]
     },
     "execution_count": 9,
     "metadata": {},
     "output_type": "execute_result"
    }
   ],
   "source": [
    "math.pi - np.pi\n"
   ]
  },
  {
   "cell_type": "markdown",
   "metadata": {},
   "source": [
    "6"
   ]
  },
  {
   "cell_type": "code",
   "execution_count": 10,
   "metadata": {
    "collapsed": false
   },
   "outputs": [
    {
     "data": {
      "text/plain": [
       "695508000000.0"
      ]
     },
     "execution_count": 10,
     "metadata": {},
     "output_type": "execute_result"
    }
   ],
   "source": [
    "6.95508e11"
   ]
  }
 ],
 "metadata": {
  "kernelspec": {
   "display_name": "Python [Root]",
   "language": "python",
   "name": "Python [Root]"
  },
  "language_info": {
   "codemirror_mode": {
    "name": "ipython",
    "version": 2
   },
   "file_extension": ".py",
   "mimetype": "text/x-python",
   "name": "python",
   "nbconvert_exporter": "python",
   "pygments_lexer": "ipython2",
   "version": "2.7.12"
  }
 },
 "nbformat": 4,
 "nbformat_minor": 0
}
