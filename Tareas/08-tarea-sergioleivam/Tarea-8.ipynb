{
 "cells": [
  {
   "cell_type": "code",
   "execution_count": 1,
   "metadata": {
    "collapsed": true
   },
   "outputs": [],
   "source": [
    "import numpy as np\n",
    "import matplotlib.pyplot as plt\n",
    "%matplotlib inline"
   ]
  },
  {
   "cell_type": "markdown",
   "metadata": {},
   "source": [
    "$$mL^2\\ddot{\\phi}=-mgLsin(\\phi)+F_0cos(\\omega t)$$\n",
    "\n",
    "$$\\frac{d}{dt}\\left(\n",
    "\\begin{matrix}\n",
    "    \\phi   \\\\\n",
    "    \\omega\n",
    "\\end{matrix}\\right)\n",
    "=\n",
    "\\left[\n",
    "\\begin{matrix}\n",
    "   \\omega \\\\\n",
    "   \\dfrac{-g}{L}sin(\\phi)+\\frac{F_{0}cos(\\omega)}{mL^2}\n",
    "\\end{matrix}\\right]\n",
    "=\n",
    "f(\\phi,\\omega,t)\n",
    "$$\n",
    "\n",
    "$y_{n+1}$ es un conjunto de parametros"
   ]
  },
  {
   "cell_type": "code",
   "execution_count": 10,
   "metadata": {
    "collapsed": true
   },
   "outputs": [],
   "source": [
    "# constantes\n",
    "m = 0.85 * 1.0937\n",
    "L = 1.75 * 1.0937\n",
    "F_o = 0.05 * 1.0937\n",
    "g = 9.8\n",
    "freq = np.sqrt(g/L)\n",
    "\n",
    "# condiciones iniciales\n",
    "phi_t0 = 0.\n",
    "w_t0 = 0."
   ]
  },
  {
   "cell_type": "code",
   "execution_count": 11,
   "metadata": {
    "collapsed": false
   },
   "outputs": [
    {
     "data": {
      "text/plain": [
       "2.2627934213805516"
      ]
     },
     "execution_count": 11,
     "metadata": {},
     "output_type": "execute_result"
    }
   ],
   "source": [
    "freq"
   ]
  },
  {
   "cell_type": "markdown",
   "metadata": {},
   "source": [
    "$y_{n+1}$ = $y_{n}+\\frac{1}{6}(k_6+2(k_3+k_2)+k_1)$\n",
    "\n",
    "$k_1=h f_n \\quad f_n$ es la funcion f evaluada en $y_n$ es decir los parametros en el paso n \n",
    "\n",
    "$k_2=hf(t_n+\\dfrac{h}{2},y_n +\\dfrac{k_1}{2})$\n",
    "\n",
    "$k_3=hf(t_n+\\dfrac{h}{2},y_n +\\dfrac{k_2}{2})$\n",
    "\n",
    "$k_4=hf(t_n+h,y_n +k_3)$"
   ]
  },
  {
   "cell_type": "code",
   "execution_count": 12,
   "metadata": {
    "collapsed": false
   },
   "outputs": [],
   "source": [
    "#Funcion a resolver\n",
    "def f(params,t):\n",
    "    phi, omega =params\n",
    "    output = np.array([omega, -g/L*np.sin(phi) + F_o * np.cos(omega_forz * t) / (m * L** 2 ) ])\n",
    "    return output"
   ]
  },
  {
   "cell_type": "code",
   "execution_count": 13,
   "metadata": {
    "collapsed": true
   },
   "outputs": [],
   "source": [
    "# Usando RK4 no especifico para el problema\n",
    "def calc_k1(f,params_n,t_n,h):\n",
    "    fn= f(params_n,t_n)\n",
    "    k1=h*fn\n",
    "    return k1\n",
    "\n",
    "def calc_k2(f,params_n,t_n,h):\n",
    "    k1=calc_k1(f,params_n,t_n,h)\n",
    "    params_k2=[params_n[i]+k1[i]/2. for i in range(len(params_n))]\n",
    "    f_k2=f(params_k2,t_n+ h/2.)\n",
    "    k2=h*f_k2\n",
    "    return k2\n",
    "\n",
    "def calc_k3(f,params_n,t_n,h):\n",
    "    k2=calc_k2(f,params_n,t_n,h)\n",
    "    params_k3=[params_n[i]+k2[i]/2. for i in range(len(params_n))]\n",
    "    f_k3=f(params_k3,t_n+ h/2.)\n",
    "    k3=h*f_k3\n",
    "    return k3 \n",
    "\n",
    "def calc_k4(f,params_n,t_n,h):\n",
    "    k3=calc_k3(f,params_n,t_n,h)\n",
    "    params_k4=[params_n[i]+k3[i] for i in range(len(params_n))]\n",
    "    f_k4=f(params_k4,t_n+ h)\n",
    "    k3=h*f_k4\n",
    "    return k3 \n",
    "\n",
    "def rk4_step(f,params_n,t_n,h):\n",
    "    k1 = calc_k1(f,params_n,t_n,h)\n",
    "    k2 = calc_k2(f,params_n,t_n,h)\n",
    "    k3 = calc_k3(f,params_n,t_n,h)\n",
    "    k4 = calc_k4(f,params_n,t_n,h)\n",
    "    params_next=params_n+(k4 + 2*(k3 + k2) + k1)/6\n",
    "    return params_next"
   ]
  },
  {
   "cell_type": "code",
   "execution_count": 14,
   "metadata": {
    "collapsed": false
   },
   "outputs": [],
   "source": [
    "# Parametros de Control\n",
    "N_osc = 20             # Numero de osciolaciones\n",
    "Nsteps = 1000          # Numero de pasos\n",
    "t = np.linspace(0, N_osc * 2 * np.pi / freq, Nsteps)\n",
    "h = N_osc * 2 * np.pi / (freq * Nsteps)\n",
    "omega_forz= freq - 0.  # Frecuencia de forzaje"
   ]
  },
  {
   "cell_type": "code",
   "execution_count": 15,
   "metadata": {
    "collapsed": false
   },
   "outputs": [],
   "source": [
    "#Implementacion para encontrar phi y phi_punto\n",
    "\n",
    "phi_arr = np.zeros(Nsteps)\n",
    "omega_arr = np.zeros(Nsteps)\n",
    "\n",
    "# Condiciones iniciales\n",
    "phi_arr[0] = phi_t0\n",
    "omega_arr[0] = w_t0\n",
    "\n",
    "params=[phi_arr,omega_arr]\n",
    "\n",
    "for i in range(1, Nsteps):\n",
    "    params_i=[params[0][i-1],params[1][i-1]]\n",
    "    phi_arr[i], omega_arr[i] = rk4_step(f, params_i, t[i-1], h)"
   ]
  },
  {
   "cell_type": "code",
   "execution_count": 16,
   "metadata": {
    "collapsed": false,
    "scrolled": true
   },
   "outputs": [
    {
     "data": {
      "image/png": "[encoded data removed]",
      "text/plain": [
       "<matplotlib.figure.Figure at 0x7f589d232a50>"
      ]
     },
     "metadata": {},
     "output_type": "display_data"
    }
   ],
   "source": [
    "#Grafico\n",
    "\n",
    "plt.plot(t, phi_arr, label='rk2')\n",
    "plt.xlabel('tiempo [s]',fontsize=12)\n",
    "plt.ylabel('$\\phi$ [rad]',fontsize=12)\n",
    "plt.title('angulo vs tiempo')\n",
    "plt.savefig('forz_00.pdf')"
   ]
  },
  {
   "cell_type": "code",
   "execution_count": 25,
   "metadata": {
    "collapsed": false
   },
   "outputs": [],
   "source": [
    "# Parametros de Control\n",
    "N_osc = 20             # Numero de osciolaciones\n",
    "Nsteps = 1000          # Numero de pasos\n",
    "t = np.linspace(0, N_osc * 2 * np.pi / freq, Nsteps)\n",
    "h = N_osc * 2 * np.pi / (freq * Nsteps)\n",
    "omega_forz= freq - 0.4  # Frecuencia de forzaje\n",
    "\n",
    "# Condiciones iniciales\n",
    "phi_arr[0] = phi_t0\n",
    "omega_arr[0] = w_t0\n",
    "\n",
    "#Implementacion para encontrar la amplitud maxima \n",
    "# y encontrar la frecuencia de forzaje\n",
    "\n",
    "#                               Toma mucho tiempo\n",
    "\n",
    "eps = 5e-3      #diferencia entre frecuencias de medicion\n",
    "N_rep=1000\n",
    "phi_max=[]      # lista de amplitudes maxima\n",
    "omega_lista=[]  # lista de frecuencias de forzaje\n",
    "\n",
    "phi_arr = np.zeros(Nsteps)   #reiniciar arreglos de phi\n",
    "omega_arr = np.zeros(Nsteps) #reiniciar arreglos de omega\n",
    "\n",
    "\n",
    "params=[phi_arr,omega_arr]\n",
    "\n",
    "\n",
    "for j in range(N_rep):\n",
    "    omega_forz+=eps\n",
    "    for i in range(1, Nsteps):\n",
    "        params_i=[params[0][i-1],params[1][i-1]]\n",
    "        phi_arr[i], omega_arr[i] = rk4_step(f, params_i, t[i-1], h)\n",
    "    phi_max.append(max(phi_arr))\n",
    "    omega_lista.append(omega_forz)"
   ]
  },
  {
   "cell_type": "code",
   "execution_count": 26,
   "metadata": {
    "collapsed": false
   },
   "outputs": [
    {
     "name": "stdout",
     "output_type": "stream",
     "text": [
      "2.25779342138 0.189995100553 2.25779342138 2.26279342138\n"
     ]
    }
   ],
   "source": [
    "max_phi= max(phi_max) \n",
    "max_omega_forz= omega_lista[np.where(phi_max == max(phi_max))[0][0]]\n",
    "max_omega_2=omega_lista[np.argmax(phi_max)]\n",
    "print max_omega_forz, max_phi , max_omega_2 , freq"
   ]
  },
  {
   "cell_type": "code",
   "execution_count": null,
   "metadata": {
    "collapsed": true
   },
   "outputs": [],
   "source": []
  },
  {
   "cell_type": "code",
   "execution_count": null,
   "metadata": {
    "collapsed": true
   },
   "outputs": [],
   "source": []
  },
  {
   "cell_type": "code",
   "execution_count": null,
   "metadata": {
    "collapsed": true
   },
   "outputs": [],
   "source": []
  }
 ],
 "metadata": {
  "kernelspec": {
   "display_name": "Python [Root]",
   "language": "python",
   "name": "Python [Root]"
  },
  "language_info": {
   "codemirror_mode": {
    "name": "ipython",
    "version": 2
   },
   "file_extension": ".py",
   "mimetype": "text/x-python",
   "name": "python",
   "nbconvert_exporter": "python",
   "pygments_lexer": "ipython2",
   "version": "2.7.12"
  }
 },
 "nbformat": 4,
 "nbformat_minor": 0
}
