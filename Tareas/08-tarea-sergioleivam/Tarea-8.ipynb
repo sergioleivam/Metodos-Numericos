{
 "cells": [
  {
   "cell_type": "code",
   "execution_count": 2,
   "metadata": {
    "collapsed": true
   },
   "outputs": [],
   "source": [
    "import numpy as np\n",
    "import matplotlib.pyplot as plt\n",
    "%matplotlib inline"
   ]
  },
  {
   "cell_type": "markdown",
   "metadata": {},
   "source": [
    "$$mL^2\\ddot{\\phi}=-mgLsin(\\phi)+F_0cos(\\omega t)$$\n",
    "\n",
    "$$\\frac{d}{dt}\\left(\n",
    "\\begin{matrix}\n",
    "    \\phi   \\\\\n",
    "    \\omega\n",
    "\\end{matrix}\\right)\n",
    "=\n",
    "\\left[\n",
    "\\begin{matrix}\n",
    "   \\omega \\\\\n",
    "   \\dfrac{-g}{L}sin(\\phi)+\\frac{F_{0}cos(\\omega)}{mL^2}\n",
    "\\end{matrix}\\right]\n",
    "=\n",
    "f(\\phi,\\omega,t)\n",
    "$$\n",
    "\n",
    "$y_{n+1}$ es un conjunto de parametros"
   ]
  },
  {
   "cell_type": "code",
   "execution_count": 118,
   "metadata": {
    "collapsed": true
   },
   "outputs": [],
   "source": [
    "# constantes\n",
    "\n",
    "m = 0.85 * 1.0464\n",
    "L = 1.75 * 1.0464\n",
    "F_o = 0.05 * 1.0464\n",
    "g = 9.8"
   ]
  },
  {
   "cell_type": "code",
   "execution_count": 119,
   "metadata": {
    "collapsed": true
   },
   "outputs": [],
   "source": [
    "# condiciones iniciales\n",
    "phi_t0 = 0.\n",
    "w_t0 = 0.\n",
    "t_0 = 0."
   ]
  },
  {
   "cell_type": "markdown",
   "metadata": {},
   "source": [
    "$y_{n+1}$ = $y_{n}+\\frac{1}{6}(k_6+2(k_3+k_2)+k_1)$\n",
    "\n",
    "$k_1=h f_n \\quad f_n$ es la funcion f evaluada en $y_n$ es decir los parametros en el paso n \n",
    "\n",
    "$k_2=hf(t_n+\\dfrac{h}{2},y_n +\\dfrac{k_1}{2})$\n",
    "\n",
    "$k_3=hf(t_n+\\dfrac{h}{2},y_n +\\dfrac{k_2}{2})$\n",
    "\n",
    "$k_4=hf(t_n+h,y_n +k_3)$"
   ]
  },
  {
   "cell_type": "code",
   "execution_count": 120,
   "metadata": {
    "collapsed": false
   },
   "outputs": [
    {
     "data": {
      "text/plain": [
       "<matplotlib.legend.Legend at 0x7f351c7957d0>"
      ]
     },
     "execution_count": 120,
     "metadata": {},
     "output_type": "execute_result"
    },
    {
     "data": {
      "image/png": "[encoded data removed]",
      "text/plain": [
       "<matplotlib.figure.Figure at 0x7f351c631e10>"
      ]
     },
     "metadata": {},
     "output_type": "display_data"
    }
   ],
   "source": [
    "# Solucion para pequeñas oscilaciones\n",
    "freq = np.sqrt(g/L)\n",
    "omega_forz= freq - 0.\n",
    "N_osc = 20     # Numero de osciolaciones\n",
    "Nsteps = 1000\n",
    "t = np.linspace(0, N_osc * 2 * np.pi / freq, Nsteps)\n",
    "#plt.plot(t, phi_po, label=u'pequeñas oscilaciones')\n",
    "\n",
    "# Usando RK4\n",
    "def f(phi, omega,t):\n",
    "    output = [omega, -g/L*np.sin(phi) + F_o * np.cos(omega_forz * t) / (m * L** 2 ) ]\n",
    "    return output\n",
    "\n",
    "def calc_k1(f, phi_n, omega_n, t_n, h):\n",
    "    fn = f(phi_n, omega_n, t_n)\n",
    "    output = [h * fn[0], h * fn[1]]\n",
    "    return output\n",
    "\n",
    "def calc_k2(f, phi_n, omega_n, t_n, h):\n",
    "    k1 = calc_k1(f, phi_n, omega_n, t_n, h)\n",
    "    f_k2 = f(phi_n + k1[0]/2, omega_n + k1[1]/2, t_n + h/2)\n",
    "    output = [h * f_k2[0], h * f_k2[1]]\n",
    "    return output\n",
    "\n",
    "def calc_k3(f, phi_n, omega_n, t_n, h):\n",
    "    k2 = calc_k2(f, phi_n, omega_n, t_n, h)\n",
    "    f_k3 = f(phi_n + k2[0]/2, omega_n + k2[1]/2, t_n + h/2)\n",
    "    output = [h * f_k3[0], h * f_k3[1]]\n",
    "    return output\n",
    "\n",
    "def calc_k4(f, phi_n, omega_n, t_n, h):\n",
    "    k3 = calc_k3(f, phi_n, omega_n, t_n, h)\n",
    "    f_4 = f(phi_n + k3[0], omega_n + k3[1], t_n + h)\n",
    "    output = [h * f_4[0], h * f_4[1]]\n",
    "    return output\n",
    "\n",
    "\n",
    "def rk4_step(f, phi_n, omega_n, t_n, h):\n",
    "    k1 = calc_k1(f, phi_n, omega_n, t_n, h)\n",
    "    k2 = calc_k2(f, phi_n, omega_n, t_n, h)\n",
    "    k3 = calc_k3(f, phi_n, omega_n, t_n, h)\n",
    "    k4 = calc_k4(f, phi_n, omega_n, t_n, h)\n",
    "    phi_next = phi_n + (k4[0] + 2*(k3[0] + k2[0]) + k1[0])/6 \n",
    "    omega_next = omega_n + (k4[1] + 2*(k3[1] + k2[1]) + k1[1])/6 \n",
    "    \n",
    "    output = [phi_next, omega_next]\n",
    "    return output\n",
    "\n",
    "\n",
    "h = N_osc * 2 * np.pi / (freq * Nsteps)\n",
    "\n",
    "phi_arr = np.zeros(Nsteps)\n",
    "omega_arr = np.zeros(Nsteps)\n",
    "\n",
    "# Condiciones iniciales\n",
    "phi_arr[0] = phi_t0\n",
    "omega_arr[0] = w_t0\n",
    "\n",
    "for i in range(1, Nsteps):\n",
    "    phi_arr[i], omega_arr[i] = rk4_step(f, phi_arr[i-1], omega_arr[i-1], t[i-1], h)\n",
    "\n",
    "\n",
    "plt.plot(t, phi_arr, label='rk2')\n",
    "\n",
    "\n",
    "plt.legend()"
   ]
  },
  {
   "cell_type": "code",
   "execution_count": 125,
   "metadata": {
    "collapsed": false
   },
   "outputs": [],
   "source": [
    "N=1000\n",
    "Nsteps = 100\n",
    "eps = 1e-1\n",
    "\n",
    "omega_forz= freq - 0.1\n",
    "\n",
    "phi_max=[]\n",
    "omega_lista=[]\n",
    "\n",
    "phi_arr = np.zeros(Nsteps)\n",
    "omega_arr = np.zeros(Nsteps)\n",
    "\n",
    "for j in range(N):\n",
    "    omega_forz+=eps\n",
    "    for i in range(1, Nsteps):\n",
    "        phi_arr[i], omega_arr[i] = rk4_step(f, phi_arr[i-1], omega_arr[i-1], t[i-1], h)\n",
    "    phi_max.append(max(phi_arr))\n",
    "    omega_lista.append(omega_forz)"
   ]
  },
  {
   "cell_type": "code",
   "execution_count": 126,
   "metadata": {
    "collapsed": false
   },
   "outputs": [
    {
     "name": "stdout",
     "output_type": "stream",
     "text": [
      "2.31337025942 0.0129397868923\n"
     ]
    }
   ],
   "source": [
    "max_phi= max(phi_max) \n",
    "max_omega_forz= omega_lista[np.where(phi_max == max(phi_max))[0][0]]\n",
    "print max_omega_forz, max_phi"
   ]
  }
 ],
 "metadata": {
  "kernelspec": {
   "display_name": "Python [Root]",
   "language": "python",
   "name": "Python [Root]"
  },
  "language_info": {
   "codemirror_mode": {
    "name": "ipython",
    "version": 2
   },
   "file_extension": ".py",
   "mimetype": "text/x-python",
   "name": "python",
   "nbconvert_exporter": "python",
   "pygments_lexer": "ipython2",
   "version": "2.7.12"
  }
 },
 "nbformat": 4,
 "nbformat_minor": 0
}
